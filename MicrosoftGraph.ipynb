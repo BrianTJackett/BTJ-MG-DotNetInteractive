{
 "cells": [
  {
   "cell_type": "markdown",
   "metadata": {},
   "source": [
    "### Read configuration values"
   ]
  },
  {
   "cell_type": "code",
   "execution_count": null,
   "metadata": {
    "dotnet_interactive": {
     "language": "csharp"
    },
    "vscode": {
     "languageId": "dotnet-interactive.csharp"
    }
   },
   "outputs": [],
   "source": [
    "#!value --name \"configValues\" --from-file appsettings.json --mime-type application/json"
   ]
  },
  {
   "cell_type": "code",
   "execution_count": null,
   "metadata": {
    "dotnet_interactive": {
     "language": "csharp"
    },
    "vscode": {
     "languageId": "dotnet-interactive.csharp"
    }
   },
   "outputs": [],
   "source": [
    "using System.Text.Json;\n",
    "#!share configValues --from value --mime-type application/json\n",
    "\n",
    "public class ConfigurationJson\n",
    "{\n",
    "    public string tenantId {get;set;}\n",
    "    public string applicationIdConfidentialClient {get;set;}\n",
    "    public string applicationSecretConfidentialClient {get;set;}\n",
    "    public string applicationIdPublicClient {get;set;}\n",
    "}\n",
    "\n",
    "var json = JsonSerializer.Deserialize<ConfigurationJson>(configValues);"
   ]
  },
  {
   "cell_type": "markdown",
   "metadata": {},
   "source": [
    "### HTTP Client .Net (application permissions)"
   ]
  },
  {
   "cell_type": "code",
   "execution_count": null,
   "metadata": {
    "dotnet_interactive": {
     "language": "csharp"
    },
    "vscode": {
     "languageId": "dotnet-interactive.csharp"
    }
   },
   "outputs": [
    {
     "data": {
      "text/html": [
       "<div><div></div><div></div><div><strong>Installed Packages</strong><ul><li><span>Microsoft.Graph, 4.39.0</span></li><li><span>Microsoft.Identity.Client, 4.46.2</span></li></ul></div></div>"
      ]
     },
     "metadata": {},
     "output_type": "display_data"
    },
    {
     "data": {
      "text/plain": [
       "{\"@odata.context\":\"https://graph.microsoft.com/v1.0/$metadata#users\",\"@odata.nextLink\":\"https://graph.microsoft.com/v1.0/users?$top=1&$skiptoken=RFNwdAIAAQAAACI6QWRhbXNATTM2NXg1NTA1MzYuT25NaWNyb3NvZnQuY29tKVVzZXJfZGYzMzJkNzAtNDU5OS00YTJkLWJkOTYtOWY0NDdhN2FhOTlkuQAAAAAAAAAAAAA\",\"value\":[{\"businessPhones\":[],\"displayName\":\"Conf Room Adams\",\"givenName\":null,\"jobTitle\":null,\"mail\":\"Adams@M365x550536.OnMicrosoft.com\",\"mobilePhone\":null,\"officeLocation\":null,\"preferredLanguage\":null,\"surname\":null,\"userPrincipalName\":\"Adams@M365x550536.OnMicrosoft.com\",\"id\":\"df332d70-4599-4a2d-bd96-9f447a7aa99d\"}]}"
      ]
     },
     "metadata": {},
     "output_type": "display_data"
    }
   ],
   "source": [
    "#r \"nuget:Microsoft.Graph\"\n",
    "#r \"nuget:Microsoft.Identity.Client\"\n",
    "\n",
    "using System;\n",
    "using System.Collections.Generic;\n",
    "using System.Threading;\n",
    "using Microsoft.Graph;\n",
    "using Microsoft.Identity.Client;\n",
    "using System.Net.Http;\n",
    "using System.Net.Http.Headers;\n",
    "using System.Threading.Tasks;\n",
    "\n",
    "\n",
    "private static HttpClient GetAuthenticatedHTTPClient()\n",
    "{\n",
    "\tvar authenticationProvider = CreateAuthorizationProvider();\n",
    "\t_httpClient = new HttpClient(new AuthHandler(authenticationProvider, new HttpClientHandler()));\n",
    "\treturn _httpClient;\n",
    "}\n",
    "\n",
    "private static IAuthenticationProvider CreateAuthorizationProvider()\n",
    "{\n",
    "\tvar clientId = json.applicationIdConfidentialClient;\n",
    "\tvar clientSecret = json.applicationSecretConfidentialClient;\n",
    "\tvar tenantId = json.tenantId;\n",
    "\tvar authority = $\"https://login.microsoftonline.com/{tenantId}/v2.0\";\n",
    "\n",
    "\t//this specific scope means that application will default to what is defined in the application registration rather than using dynamic scopes\n",
    "\tList<string> scopes = new List<string>();\n",
    "\tscopes.Add(\"https://graph.microsoft.com/.default\");\n",
    "\n",
    "\tvar cca = ConfidentialClientApplicationBuilder.Create(clientId)\n",
    "\t\t\t\t\t\t\t\t\t\t\t.WithAuthority(authority)\n",
    "\t\t\t\t\t\t\t\t\t\t\t.WithClientSecret(clientSecret)\n",
    "\t\t\t\t\t\t\t\t\t\t\t.Build();\n",
    "\treturn new MsalAuthenticationProvider(cca, scopes.ToArray());\n",
    "}\n",
    "\n",
    "// Define other methods and classes here\n",
    "public class MsalAuthenticationProvider : IAuthenticationProvider\n",
    "{\n",
    "\tprivate IConfidentialClientApplication _clientApplication;\n",
    "\tprivate string[] _scopes;\n",
    "\n",
    "\tpublic MsalAuthenticationProvider(IConfidentialClientApplication clientApplication, string[] scopes)\n",
    "\t{\n",
    "\t\t_clientApplication = clientApplication;\n",
    "\t\t_scopes = scopes;\n",
    "\t}\n",
    "\n",
    "\t/// <summary>\n",
    "\t/// Update HttpRequestMessage with credentials\n",
    "\t/// </summary>\n",
    "\tpublic async Task AuthenticateRequestAsync(HttpRequestMessage request)\n",
    "\t{\n",
    "\t\tvar token = await GetTokenAsync();\n",
    "\t\trequest.Headers.Authorization = new AuthenticationHeaderValue(\"bearer\", token);\n",
    "\t}\n",
    "\n",
    "\t/// <summary>\n",
    "\t/// Acquire Token \n",
    "\t/// </summary>\n",
    "\tpublic async Task<string> GetTokenAsync()\n",
    "\t{\n",
    "\t\tAuthenticationResult authResult = null;\n",
    "\t\tauthResult = await _clientApplication.AcquireTokenForClient(_scopes)\n",
    "\t\t\t\t\t\t\t.ExecuteAsync();\n",
    "\t\treturn authResult.AccessToken;\n",
    "\t}\n",
    "}\n",
    "\n",
    "public class AuthHandler : DelegatingHandler\n",
    "{\n",
    "\tprivate IAuthenticationProvider _authenticationProvider;\n",
    "\n",
    "\tpublic AuthHandler(IAuthenticationProvider authenticationProvider, HttpMessageHandler innerHandler)\n",
    "\t{\n",
    "\t\tInnerHandler = innerHandler;\n",
    "\t\t_authenticationProvider = authenticationProvider;\n",
    "\t}\n",
    "\n",
    "\tprotected override async Task<HttpResponseMessage> SendAsync(HttpRequestMessage request, CancellationToken cancellationToken)\n",
    "\t{\n",
    "\t\tawait _authenticationProvider.AuthenticateRequestAsync(request);\n",
    "\t\treturn await base.SendAsync(request, cancellationToken);\n",
    "\t}\n",
    "}\n",
    "\n",
    "\n",
    "private static HttpClient _httpClient;\n",
    "\n",
    "HttpClient httpClient = GetAuthenticatedHTTPClient();\n",
    "\n",
    "// if prefer to get access token directly, uncomment below lines and the corresponding GetAccessToken() method and AuthResult class\n",
    "//var accessToken = GetAccessToken();\n",
    "//httpClient.DefaultRequestHeaders.Add(\"Authorization\", $\"bearer {accessToken}\");\n",
    "\n",
    "var version = \"v1.0\";\n",
    "var graphRequestUrl = $\"https://graph.microsoft.com/{version}/users?$top=1\";\n",
    "\n",
    "var result = httpClient.GetStringAsync(graphRequestUrl).Result;\n",
    "result"
   ]
  },
  {
   "cell_type": "markdown",
   "metadata": {},
   "source": [
    "### Microsoft Graph .Net SDK (delegated permissions, device code)"
   ]
  },
  {
   "cell_type": "code",
   "execution_count": null,
   "metadata": {
    "dotnet_interactive": {
     "language": "csharp"
    },
    "vscode": {
     "languageId": "dotnet-interactive.csharp"
    }
   },
   "outputs": [
    {
     "data": {
      "text/html": [
       "<div><div></div><div></div><div><strong>Installed Packages</strong><ul><li><span>Azure.Identity, 1.6.1</span></li><li><span>Microsoft.Graph, 4.40.0</span></li><li><span>microsoft.identity.client, 4.46.1</span></li></ul></div></div>"
      ]
     },
     "metadata": {},
     "output_type": "display_data"
    },
    {
     "name": "stdout",
     "output_type": "stream",
     "text": [
      "To sign in, use a web browser to open the page https://microsoft.com/devicelogin and enter the code ALUM4QSSV to authenticate.\r\n"
     ]
    },
    {
     "data": {
      "text/plain": [
       "Conf Room Adams | Adams@M365x550536.OnMicrosoft.com | df332d70-4599-4a2d-bd96-9f447a7aa99d"
      ]
     },
     "metadata": {},
     "output_type": "display_data"
    }
   ],
   "source": [
    "#r \"nuget:Microsoft.Graph\"\n",
    "#r \"nuget:Microsoft.Identity.Client\"\n",
    "#r \"nuget:Azure.Identity\"\n",
    "\n",
    "using Azure.Identity;\n",
    "using Microsoft.Graph;\n",
    "using Microsoft.Identity.Client;\n",
    "using System.Threading;\n",
    "\n",
    "var tenantId = json.tenantId;\n",
    "var clientId = json.applicationIdPublicClient;\n",
    "\n",
    "//this specific scope means that application will default to what is defined in the application registration rather than using dynamic scopes\n",
    "var scopes = new [] {\"https://graph.microsoft.com/.default\"};\n",
    "\n",
    "var options = new TokenCredentialOptions\n",
    "{\n",
    "    AuthorityHost = AzureAuthorityHosts.AzurePublicCloud\n",
    "};\n",
    "\n",
    "Func<DeviceCodeInfo, CancellationToken, Task> callback = (code, cancellation) => {\n",
    "    Console.WriteLine(code.Message);\n",
    "    return Task.FromResult(0);\n",
    "};\n",
    "\n",
    "var deviceCodeCredential = new DeviceCodeCredential(\n",
    "    callback, tenantId, clientId, options);\n",
    "\n",
    "var graphClient = new GraphServiceClient(deviceCodeCredential, scopes);\n",
    "\n",
    "var result = graphClient.Users.Request().GetAsync().Result[0];\n",
    "$\"{result.DisplayName} | {result.UserPrincipalName} | {result.Id}\""
   ]
  },
  {
   "cell_type": "markdown",
   "metadata": {},
   "source": [
    "### Microsoft Graph .Net SDK (application permissions, client credentials)"
   ]
  },
  {
   "cell_type": "code",
   "execution_count": null,
   "metadata": {
    "dotnet_interactive": {
     "language": "csharp"
    },
    "vscode": {
     "languageId": "dotnet-interactive.csharp"
    }
   },
   "outputs": [
    {
     "data": {
      "text/html": [
       "<div><div></div><div></div><div><strong>Installed Packages</strong><ul><li><span>Azure.Identity, 1.6.1</span></li><li><span>Microsoft.Graph, 4.40.0</span></li></ul></div></div>"
      ]
     },
     "metadata": {},
     "output_type": "display_data"
    },
    {
     "data": {
      "text/plain": [
       "Conf Room Adams | Adams@M365x550536.OnMicrosoft.com | df332d70-4599-4a2d-bd96-9f447a7aa99d"
      ]
     },
     "metadata": {},
     "output_type": "display_data"
    }
   ],
   "source": [
    "#r \"nuget:Microsoft.Graph\"\n",
    "#r \"nuget:Azure.Identity\"\n",
    "\n",
    "using Azure.Identity;\n",
    "using Microsoft.Graph;\n",
    "\n",
    "var tenantId = json.tenantId;\n",
    "var clientId = json.applicationIdConfidentialClient;\n",
    "var clientSecret = json.applicationSecretConfidentialClient;\n",
    "\n",
    "//this specific scope means that application will default to what is defined in the application registration rather than using dynamic scopes\n",
    "var scopes = new [] {\"https://graph.microsoft.com/.default\"};\n",
    "\n",
    "var options = new TokenCredentialOptions\n",
    "{\n",
    "    AuthorityHost = AzureAuthorityHosts.AzurePublicCloud\n",
    "};\n",
    "\n",
    "var clientSecretCredential = new ClientSecretCredential(\n",
    "    tenantId, clientId, clientSecret, options);\n",
    "\n",
    "var graphClient = new GraphServiceClient(clientSecretCredential, scopes);\n",
    "\n",
    "var result = graphClient.Users.Request().GetAsync().Result[0];\n",
    "$\"{result.DisplayName} | {result.UserPrincipalName} | {result.Id}\""
   ]
  }
 ],
 "metadata": {
  "kernelspec": {
   "display_name": ".NET (C#)",
   "language": "C#",
   "name": ".net-csharp"
  },
  "language_info": {
   "file_extension": ".cs",
   "mimetype": "text/x-csharp",
   "name": "C#",
   "pygments_lexer": "csharp",
   "version": "9.0"
  },
  "orig_nbformat": 4
 },
 "nbformat": 4,
 "nbformat_minor": 2
}
